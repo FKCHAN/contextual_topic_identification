{
 "cells": [
  {
   "cell_type": "code",
   "execution_count": 169,
   "metadata": {},
   "outputs": [],
   "source": [
    "# data: 01/22/2020\n",
    "# first attempt using basic models\n",
    "# to be modularized"
   ]
  },
  {
   "cell_type": "markdown",
   "metadata": {},
   "source": [
    "# Loading Packages"
   ]
  },
  {
   "cell_type": "code",
   "execution_count": 12,
   "metadata": {},
   "outputs": [],
   "source": [
    "import numpy as np\n",
    "import pandas as pd\n",
    "import nltk\n",
    "import string\n",
    "import matplotlib.pyplot as plt\n",
    "import re\n",
    "import gensim\n",
    "from nltk.tokenize import word_tokenize\n",
    "from nltk.corpus import stopwords"
   ]
  },
  {
   "cell_type": "markdown",
   "metadata": {},
   "source": [
    "# Loading data"
   ]
  },
  {
   "cell_type": "code",
   "execution_count": 13,
   "metadata": {},
   "outputs": [],
   "source": [
    "from collections import Counter as C"
   ]
  },
  {
   "cell_type": "code",
   "execution_count": 14,
   "metadata": {},
   "outputs": [],
   "source": [
    "data = pd.read_csv('steam-reviews-dataset/steam_reviews.csv')"
   ]
  },
  {
   "cell_type": "code",
   "execution_count": 15,
   "metadata": {},
   "outputs": [
    {
     "data": {
      "text/plain": [
       "Index(['date_posted', 'funny', 'helpful', 'hour_played',\n",
       "       'is_early_access_review', 'recommendation', 'review', 'title'],\n",
       "      dtype='object')"
      ]
     },
     "execution_count": 15,
     "metadata": {},
     "output_type": "execute_result"
    }
   ],
   "source": [
    "data.columns"
   ]
  },
  {
   "cell_type": "code",
   "execution_count": 16,
   "metadata": {},
   "outputs": [
    {
     "data": {
      "text/plain": [
       "[(\"PLAYERUNKNOWN'S BATTLEGROUNDS\", 145685),\n",
       " ('Grand Theft Auto V', 99956),\n",
       " ('Rust', 71088),\n",
       " ('Rocket League®', 67907),\n",
       " ('Dead by Daylight', 22221),\n",
       " ('MONSTER HUNTER: WORLD', 18412),\n",
       " ('ASTRONEER', 2661),\n",
       " ('The Elder Scrolls V: Skyrim Special Edition', 1473),\n",
       " ('RESIDENT EVIL 2 / BIOHAZARD RE:2', 1385),\n",
       " ('Sid Meier’s Civilization® VI', 522),\n",
       " ('Euro Truck Simulator 2', 501),\n",
       " ('Terraria', 260),\n",
       " ('Slay the Spire', 260),\n",
       " ('Subnautica', 247),\n",
       " ('Left 4 Dead 2', 221),\n",
       " ('Insurgency: Sandstorm', 220),\n",
       " ('RimWorld', 204),\n",
       " (\"Garry's Mod\", 202),\n",
       " ('Stardew Valley', 202),\n",
       " ('ARK: Survival Evolved', 195),\n",
       " ('Divinity: Original Sin 2 - Definitive Edition', 190),\n",
       " ('Human: Fall Flat', 172),\n",
       " ('Wallpaper Engine', 170),\n",
       " ('Factorio', 170),\n",
       " (\"Don't Starve Together\", 165),\n",
       " ('Wargroove', 10),\n",
       " ('Cold Waters', 10),\n",
       " ('Tannenberg', 10),\n",
       " ('Pathfinder: Kingmaker', 10),\n",
       " ('Football Manager 2019', 10),\n",
       " ('Moonlighter', 10),\n",
       " ('GOD EATER 3', 10),\n",
       " ('Subnautica: Below Zero', 10),\n",
       " (\"Tom Clancy's Rainbow Six® Siege\", 10),\n",
       " ('Kenshi', 10),\n",
       " ('NBA 2K19', 10),\n",
       " ('My Time At Portia', 10),\n",
       " ('Foundation', 10),\n",
       " ('Beat Saber', 10),\n",
       " ('Farming Simulator 19', 10),\n",
       " ('Overcooked! 2', 10),\n",
       " ('ACE COMBAT™ 7: SKIES UNKNOWN', 10),\n",
       " ('Battlefleet Gothic: Armada 2', 10),\n",
       " ('Warhammer 40,000: Mechanicus', 10),\n",
       " ('Expansion - Hearts of Iron IV: Man the Guns', 3),\n",
       " ('Survivor Pass: Vikendi', 3),\n",
       " ('Sid Meier’s Civilization® VI: Rise and Fall', 3),\n",
       " (\"Sid Meier's Civilization® VI: Gathering Storm\", 3)]"
      ]
     },
     "execution_count": 16,
     "metadata": {},
     "output_type": "execute_result"
    }
   ],
   "source": [
    "sorted(C(data.title).items(), key = lambda x: x[1], reverse = True)"
   ]
  },
  {
   "cell_type": "code",
   "execution_count": 17,
   "metadata": {},
   "outputs": [
    {
     "name": "stdout",
     "output_type": "stream",
     "text": [
      "date_posted                  0\n",
      "funny                        0\n",
      "helpful                      0\n",
      "hour_played                  0\n",
      "is_early_access_review       0\n",
      "recommendation               0\n",
      "review                    1516\n",
      "title                        0\n",
      "dtype: int64\n"
     ]
    }
   ],
   "source": [
    "print(np.sum(data.isna(), axis=0))\n",
    "\n",
    "data = data.fillna('') # only the comments has NaN's\n",
    "rws = data.review.values\n",
    "rws_len = np.array(list(map(len, rws)))\n",
    "h = data.helpful.values"
   ]
  },
  {
   "cell_type": "code",
   "execution_count": 18,
   "metadata": {},
   "outputs": [],
   "source": [
    "# nlp\n",
    "# 0. tokenize (sentence, word)\n",
    "# 1. lower case\n",
    "# 2. stemming"
   ]
  },
  {
   "cell_type": "code",
   "execution_count": 19,
   "metadata": {},
   "outputs": [],
   "source": [
    "# Word Embedding\n",
    "\n",
    "import gensim\n",
    "\n",
    "model = gensim.models.KeyedVectors.load_word2vec_format('./steam-reviews-dataset/enwiki_20180420_100d.txt', binary=False, limit=50000)"
   ]
  },
  {
   "cell_type": "code",
   "execution_count": 20,
   "metadata": {},
   "outputs": [],
   "source": []
  },
  {
   "cell_type": "code",
   "execution_count": 21,
   "metadata": {},
   "outputs": [],
   "source": [
    "stop_words = set(stopwords.words('english'))\n",
    "sw = stop_words.union(set(['cant', 'cannot', 'can\\'t', 'wont', 'won\\'t']))"
   ]
  },
  {
   "cell_type": "code",
   "execution_count": 22,
   "metadata": {},
   "outputs": [
    {
     "data": {
      "text/plain": [
       "{'a',\n",
       " 'about',\n",
       " 'above',\n",
       " 'after',\n",
       " 'again',\n",
       " 'against',\n",
       " 'ain',\n",
       " 'all',\n",
       " 'am',\n",
       " 'an',\n",
       " 'and',\n",
       " 'any',\n",
       " 'are',\n",
       " 'aren',\n",
       " \"aren't\",\n",
       " 'as',\n",
       " 'at',\n",
       " 'be',\n",
       " 'because',\n",
       " 'been',\n",
       " 'before',\n",
       " 'being',\n",
       " 'below',\n",
       " 'between',\n",
       " 'both',\n",
       " 'but',\n",
       " 'by',\n",
       " 'can',\n",
       " 'couldn',\n",
       " \"couldn't\",\n",
       " 'd',\n",
       " 'did',\n",
       " 'didn',\n",
       " \"didn't\",\n",
       " 'do',\n",
       " 'does',\n",
       " 'doesn',\n",
       " \"doesn't\",\n",
       " 'doing',\n",
       " 'don',\n",
       " \"don't\",\n",
       " 'down',\n",
       " 'during',\n",
       " 'each',\n",
       " 'few',\n",
       " 'for',\n",
       " 'from',\n",
       " 'further',\n",
       " 'had',\n",
       " 'hadn',\n",
       " \"hadn't\",\n",
       " 'has',\n",
       " 'hasn',\n",
       " \"hasn't\",\n",
       " 'have',\n",
       " 'haven',\n",
       " \"haven't\",\n",
       " 'having',\n",
       " 'he',\n",
       " 'her',\n",
       " 'here',\n",
       " 'hers',\n",
       " 'herself',\n",
       " 'him',\n",
       " 'himself',\n",
       " 'his',\n",
       " 'how',\n",
       " 'i',\n",
       " 'if',\n",
       " 'in',\n",
       " 'into',\n",
       " 'is',\n",
       " 'isn',\n",
       " \"isn't\",\n",
       " 'it',\n",
       " \"it's\",\n",
       " 'its',\n",
       " 'itself',\n",
       " 'just',\n",
       " 'll',\n",
       " 'm',\n",
       " 'ma',\n",
       " 'me',\n",
       " 'mightn',\n",
       " \"mightn't\",\n",
       " 'more',\n",
       " 'most',\n",
       " 'mustn',\n",
       " \"mustn't\",\n",
       " 'my',\n",
       " 'myself',\n",
       " 'needn',\n",
       " \"needn't\",\n",
       " 'no',\n",
       " 'nor',\n",
       " 'not',\n",
       " 'now',\n",
       " 'o',\n",
       " 'of',\n",
       " 'off',\n",
       " 'on',\n",
       " 'once',\n",
       " 'only',\n",
       " 'or',\n",
       " 'other',\n",
       " 'our',\n",
       " 'ours',\n",
       " 'ourselves',\n",
       " 'out',\n",
       " 'over',\n",
       " 'own',\n",
       " 're',\n",
       " 's',\n",
       " 'same',\n",
       " 'shan',\n",
       " \"shan't\",\n",
       " 'she',\n",
       " \"she's\",\n",
       " 'should',\n",
       " \"should've\",\n",
       " 'shouldn',\n",
       " \"shouldn't\",\n",
       " 'so',\n",
       " 'some',\n",
       " 'such',\n",
       " 't',\n",
       " 'than',\n",
       " 'that',\n",
       " \"that'll\",\n",
       " 'the',\n",
       " 'their',\n",
       " 'theirs',\n",
       " 'them',\n",
       " 'themselves',\n",
       " 'then',\n",
       " 'there',\n",
       " 'these',\n",
       " 'they',\n",
       " 'this',\n",
       " 'those',\n",
       " 'through',\n",
       " 'to',\n",
       " 'too',\n",
       " 'under',\n",
       " 'until',\n",
       " 'up',\n",
       " 've',\n",
       " 'very',\n",
       " 'was',\n",
       " 'wasn',\n",
       " \"wasn't\",\n",
       " 'we',\n",
       " 'were',\n",
       " 'weren',\n",
       " \"weren't\",\n",
       " 'what',\n",
       " 'when',\n",
       " 'where',\n",
       " 'which',\n",
       " 'while',\n",
       " 'who',\n",
       " 'whom',\n",
       " 'why',\n",
       " 'will',\n",
       " 'with',\n",
       " 'won',\n",
       " \"won't\",\n",
       " 'wouldn',\n",
       " \"wouldn't\",\n",
       " 'y',\n",
       " 'you',\n",
       " \"you'd\",\n",
       " \"you'll\",\n",
       " \"you're\",\n",
       " \"you've\",\n",
       " 'your',\n",
       " 'yours',\n",
       " 'yourself',\n",
       " 'yourselves'}"
      ]
     },
     "execution_count": 22,
     "metadata": {},
     "output_type": "execute_result"
    }
   ],
   "source": [
    "stop_words"
   ]
  },
  {
   "cell_type": "code",
   "execution_count": 23,
   "metadata": {},
   "outputs": [],
   "source": [
    "rws = data.review.values\n",
    "rws = list(map(lambda w: w.lower(), rws))\n",
    "rws = list(map(lambda w: re.sub(r'&gt|&lt', ' ', w), rws))\n",
    "rws = list(map(lambda w: re.sub(r'([a-z])\\1{3,}', r'\\1', w), rws))\n",
    "# x = list(map(lambda w: re.sub(r'\\'', '', w), x))\n",
    "# x = list(map(lambda w: re.sub(), x))\n",
    "\n",
    "# x = list(map(lambda w: w.strip(string.punctuation), x))\n",
    "# x = list(map(lambda w: w.split(string.punctuation+' '), x))\n",
    "# x = list(map(lambda w: re.sub(r'[^\\w\\s]', ' ', w), x))"
   ]
  },
  {
   "cell_type": "markdown",
   "metadata": {},
   "source": [
    "# lowercase"
   ]
  },
  {
   "cell_type": "code",
   "execution_count": 26,
   "metadata": {},
   "outputs": [],
   "source": [
    "def lower(w):\n",
    "    return w.lower()"
   ]
  },
  {
   "cell_type": "markdown",
   "metadata": {},
   "source": [
    "# Filtering out non-english"
   ]
  },
  {
   "cell_type": "code",
   "execution_count": 27,
   "metadata": {},
   "outputs": [],
   "source": [
    "from language_detector import detect_language"
   ]
  },
  {
   "cell_type": "code",
   "execution_count": 28,
   "metadata": {},
   "outputs": [],
   "source": [
    "# filtering out non-english reviews\n",
    "q = []\n",
    "for _ in rws:\n",
    "    if detect_language(_) == 'English':\n",
    "        q.append(_)"
   ]
  },
  {
   "cell_type": "code",
   "execution_count": 29,
   "metadata": {},
   "outputs": [],
   "source": [
    "# filtering out non english words"
   ]
  },
  {
   "cell_type": "markdown",
   "metadata": {},
   "source": [
    "# filtering out punctuation"
   ]
  },
  {
   "cell_type": "code",
   "execution_count": 30,
   "metadata": {},
   "outputs": [],
   "source": [
    "def f_punct(w):\n",
    "    \"\"\"\n",
    "    filting out punctuations\n",
    "    \"\"\"\n",
    "    return [word for word in w if word.isalpha()]"
   ]
  },
  {
   "cell_type": "code",
   "execution_count": 31,
   "metadata": {},
   "outputs": [],
   "source": [
    "from nltk.corpus import wordnet\n",
    "\n",
    "def get_wordnet_pos(word):\n",
    "    \"\"\"Map POS tag to first character lemmatize() accepts\"\"\"\n",
    "    tag = nltk.pos_tag([word])[0][1][0].upper()\n",
    "    tag_dict = {\"J\": wordnet.ADJ,\n",
    "                \"N\": wordnet.NOUN,\n",
    "                \"V\": wordnet.VERB,\n",
    "                \"R\": wordnet.ADV}\n",
    "\n",
    "    return tag_dict.get(tag, wordnet.NOUN)"
   ]
  },
  {
   "cell_type": "markdown",
   "metadata": {},
   "source": [
    "# lemmatize\n"
   ]
  },
  {
   "cell_type": "code",
   "execution_count": 32,
   "metadata": {},
   "outputs": [],
   "source": [
    "from nltk.stem import WordNetLemmatizer\n",
    "lemmatizer = WordNetLemmatizer()\n",
    "def f_lem(w):\n",
    "    \"\"\"\n",
    "    lemmatization\n",
    "    \"\"\"\n",
    "    return [lemmatizer.lemmatize(lemmatizer.lemmatize(lemmatizer.lemmatize(word, pos='v'), pos='a'), pos='n') for word in w]"
   ]
  },
  {
   "cell_type": "markdown",
   "metadata": {},
   "source": [
    "# filtering out stop_words"
   ]
  },
  {
   "cell_type": "code",
   "execution_count": 33,
   "metadata": {},
   "outputs": [],
   "source": [
    "def f_stopw(w):\n",
    "    \"\"\"\n",
    "    filtering out stop words\n",
    "    \"\"\"\n",
    "    return [word for word in w if word not in sw]"
   ]
  },
  {
   "cell_type": "markdown",
   "metadata": {},
   "source": [
    "# Normalization"
   ]
  },
  {
   "cell_type": "code",
   "execution_count": 34,
   "metadata": {},
   "outputs": [],
   "source": [
    "# rly -> really\n",
    "# aggro -> aggressive"
   ]
  },
  {
   "cell_type": "code",
   "execution_count": 35,
   "metadata": {},
   "outputs": [
    {
     "name": "stdout",
     "output_type": "stream",
     "text": [
      "19999\r"
     ]
    }
   ],
   "source": [
    "res = []\n",
    "for i, x in enumerate(q[:20000]):\n",
    "    print(i, end='\\r')\n",
    "    res.append(f_stopw(f_lem(f_punct(word_tokenize(lower(x))))))"
   ]
  },
  {
   "cell_type": "code",
   "execution_count": 36,
   "metadata": {},
   "outputs": [
    {
     "data": {
      "text/plain": [
       "20220"
      ]
     },
     "execution_count": 36,
     "metadata": {},
     "output_type": "execute_result"
    }
   ],
   "source": [
    "corpus = list(map(lambda x: ' '.join(x), res))\n",
    "\n",
    "from sklearn.feature_extraction.text import TfidfVectorizer\n",
    "tfidf = TfidfVectorizer()\n",
    "tfidf.fit(corpus)\n",
    "\n",
    "len(tfidf.get_feature_names())"
   ]
  },
  {
   "cell_type": "markdown",
   "metadata": {},
   "source": [
    "# Typo Correction"
   ]
  },
  {
   "cell_type": "code",
   "execution_count": 37,
   "metadata": {},
   "outputs": [
    {
     "data": {
      "text/plain": [
       "True"
      ]
     },
     "execution_count": 37,
     "metadata": {},
     "output_type": "execute_result"
    }
   ],
   "source": [
    "import pkg_resources\n",
    "from symspellpy import SymSpell, Verbosity\n",
    "\n",
    "sym_spell = SymSpell(max_dictionary_edit_distance=4, prefix_length=7)\n",
    "dictionary_path = pkg_resources.resource_filename(\n",
    "    \"symspellpy\", \"frequency_dictionary_en_82_765.txt\")\n",
    "# term_index is the column of the term and count_index is the\n",
    "# column of the term frequency\n",
    "sym_spell.load_dictionary(dictionary_path, term_index=0, count_index=1)\n"
   ]
  },
  {
   "cell_type": "code",
   "execution_count": 38,
   "metadata": {
    "scrolled": true
   },
   "outputs": [
    {
     "name": "stdout",
     "output_type": "stream",
     "text": [
      "19999\r"
     ]
    }
   ],
   "source": [
    "res2 = []\n",
    "# review\n",
    "for ite, r in enumerate(res):\n",
    "    # word\n",
    "    print(ite, end='\\r')\n",
    "    tmp = []\n",
    "    for w in r:\n",
    "        suggestions = sym_spell.lookup(w, Verbosity.CLOSEST,\n",
    "                               max_edit_distance=3)\n",
    "        # display suggestion term, term frequency, and edit distance\n",
    "        if suggestions:\n",
    "            tmp.append(suggestions[0].term)\n",
    "        else:\n",
    "            pass\n",
    "            # word segementation\n",
    "#             print(ite, w, end='r')\n",
    "#             w_seg = sym_spell.word_segmentation(phrase=w)\n",
    "#             tmp.extend(w_seg.corrected_string.split())\n",
    "        \n",
    "    res2.append(tmp)"
   ]
  },
  {
   "cell_type": "code",
   "execution_count": 39,
   "metadata": {},
   "outputs": [
    {
     "data": {
      "text/plain": [
       "11875"
      ]
     },
     "execution_count": 39,
     "metadata": {},
     "output_type": "execute_result"
    }
   ],
   "source": [
    "corpus = list(map(lambda x: ' '.join(x), res2))\n",
    "\n",
    "tfidf = TfidfVectorizer()\n",
    "tfidf.fit(corpus)\n",
    "\n",
    "len(tfidf.get_feature_names())"
   ]
  },
  {
   "cell_type": "code",
   "execution_count": 81,
   "metadata": {},
   "outputs": [],
   "source": [
    "k = np.array(tfidf.get_feature_names())\n",
    "v = tfidf.fit_transform(corpus).toarray()\n",
    "for i, _ in enumerate(k):\n",
    "    dic[_] = v[:,i]"
   ]
  },
  {
   "cell_type": "code",
   "execution_count": 109,
   "metadata": {},
   "outputs": [],
   "source": [
    "def get_embedding(ws, i):\n",
    "    \"\"\"\n",
    "    get embedding from words weighted by tfidf\n",
    "    \"\"\"\n",
    "    r = np.zeros(100)\n",
    "    ct = 0\n",
    "    for w in ws:\n",
    "        try:\n",
    "            wt = dic[w][i]\n",
    "            r += wt*model.wv[w]\n",
    "            ct += wt\n",
    "        except:\n",
    "            pass\n",
    "    \n",
    "    return r/ct if ct>0 else r"
   ]
  },
  {
   "cell_type": "code",
   "execution_count": 92,
   "metadata": {},
   "outputs": [],
   "source": [
    "# def get_embedding(ws):\n",
    "#     \"\"\"\n",
    "#     get embedding from words\n",
    "#     \"\"\"\n",
    "#     r = np.zeros(100)\n",
    "#     ct = 0\n",
    "#     for w in ws:\n",
    "#         try:\n",
    "#             r += model.wv[w]\n",
    "#             ct += 1\n",
    "#         except:\n",
    "#             pass\n",
    "    \n",
    "#     return r/ct if ct>0 else r"
   ]
  },
  {
   "cell_type": "code",
   "execution_count": 173,
   "metadata": {},
   "outputs": [
    {
     "name": "stderr",
     "output_type": "stream",
     "text": [
      "/home/stve/anaconda3/lib/python3.7/site-packages/ipykernel_launcher.py:10: DeprecationWarning: Call to deprecated `wv` (Attribute will be removed in 4.0.0, use self instead).\n",
      "  # Remove the CWD from sys.path while we load stuff.\n"
     ]
    }
   ],
   "source": [
    "vecs = np.zeros((20000, 100))\n",
    "for i, ws in enumerate(res2):\n",
    "    vecs[i] = get_embedding(ws, i)"
   ]
  },
  {
   "cell_type": "code",
   "execution_count": 174,
   "metadata": {},
   "outputs": [],
   "source": [
    "from sklearn.decomposition import PCA\n",
    "from sklearn.manifold import TSNE"
   ]
  },
  {
   "cell_type": "code",
   "execution_count": 175,
   "metadata": {},
   "outputs": [
    {
     "data": {
      "text/plain": [
       "[<matplotlib.lines.Line2D at 0x7f9fed378cd0>]"
      ]
     },
     "execution_count": 175,
     "metadata": {},
     "output_type": "execute_result"
    },
    {
     "data": {
      "image/png": "[encoded data removed]",
      "text/plain": [
       "<Figure size 432x288 with 1 Axes>"
      ]
     },
     "metadata": {
      "needs_background": "light"
     },
     "output_type": "display_data"
    }
   ],
   "source": [
    "pca = PCA(n_components=2)\n",
    "DR2_pca = pca.fit_transform(vecs)\n",
    "plt.plot(*DR2_pca.T, '.')"
   ]
  },
  {
   "cell_type": "code",
   "execution_count": 176,
   "metadata": {},
   "outputs": [
    {
     "data": {
      "text/plain": [
       "[<matplotlib.lines.Line2D at 0x7f9fed248fd0>]"
      ]
     },
     "execution_count": 176,
     "metadata": {},
     "output_type": "execute_result"
    },
    {
     "data": {
      "image/png": "[encoded data removed]",
      "text/plain": [
       "<Figure size 432x288 with 1 Axes>"
      ]
     },
     "metadata": {
      "needs_background": "light"
     },
     "output_type": "display_data"
    }
   ],
   "source": [
    "tsne = TSNE()\n",
    "DR2 = tsne.fit_transform(vecs)\n",
    "plt.plot(*DR2.T,'.')"
   ]
  },
  {
   "cell_type": "code",
   "execution_count": 177,
   "metadata": {},
   "outputs": [
    {
     "data": {
      "text/plain": [
       "GaussianMixture(covariance_type='full', init_params='kmeans', max_iter=100,\n",
       "                means_init=None, n_components=5, n_init=1, precisions_init=None,\n",
       "                random_state=None, reg_covar=1e-06, tol=0.001, verbose=0,\n",
       "                verbose_interval=10, warm_start=False, weights_init=None)"
      ]
     },
     "execution_count": 177,
     "metadata": {},
     "output_type": "execute_result"
    }
   ],
   "source": [
    "from sklearn.mixture import GaussianMixture\n",
    "GMM = GaussianMixture(n_components=5)\n",
    "GMM.fit(vecs)"
   ]
  },
  {
   "cell_type": "code",
   "execution_count": 178,
   "metadata": {},
   "outputs": [
    {
     "data": {
      "text/plain": [
       "<matplotlib.collections.PathCollection at 0x7f9fecfc9190>"
      ]
     },
     "execution_count": 178,
     "metadata": {},
     "output_type": "execute_result"
    },
    {
     "data": {
      "image/png": "[encoded data removed]",
      "text/plain": [
       "<Figure size 432x288 with 1 Axes>"
      ]
     },
     "metadata": {
      "needs_background": "light"
     },
     "output_type": "display_data"
    }
   ],
   "source": [
    "lbs = GMM.predict(vecs)\n",
    "plt.scatter(*DR2.T, c=lbs)"
   ]
  },
  {
   "cell_type": "code",
   "execution_count": 416,
   "metadata": {},
   "outputs": [],
   "source": [
    "def cos(v1, v2):\n",
    "    \"\"\"\n",
    "    cosine similarity\n",
    "    \"\"\"\n",
    "    return v1.dot(v2)/np.linalg.norm(v1)/np.linalg.norm(v2)"
   ]
  },
  {
   "cell_type": "code",
   "execution_count": null,
   "metadata": {},
   "outputs": [],
   "source": [
    "\n",
    "## preprocess\n",
    "#  1. typos (normalization lvl/level)\n",
    "#  2. lemmetize\n",
    "#  3. stop words\n",
    "\n",
    "## algorithms\n",
    "#  1. sentence embedding bert\n",
    "#  2. giving weights to different words"
   ]
  },
  {
   "cell_type": "code",
   "execution_count": null,
   "metadata": {},
   "outputs": [],
   "source": [
    "# ROBERDA #embedding"
   ]
  }
 ],
 "metadata": {
  "kernelspec": {
   "display_name": "Python 3",
   "language": "python",
   "name": "python3"
  },
  "language_info": {
   "codemirror_mode": {
    "name": "ipython",
    "version": 3
   },
   "file_extension": ".py",
   "mimetype": "text/x-python",
   "name": "python",
   "nbconvert_exporter": "python",
   "pygments_lexer": "ipython3",
   "version": "3.7.4"
  }
 },
 "nbformat": 4,
 "nbformat_minor": 2
}
